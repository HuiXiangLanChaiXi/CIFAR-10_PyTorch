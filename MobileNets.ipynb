{
 "cells": [
  {
   "cell_type": "code",
   "execution_count": 1,
   "metadata": {},
   "outputs": [
    {
     "ename": "ImportError",
     "evalue": "No module named 'torch'",
     "output_type": "error",
     "traceback": [
      "\u001b[1;31m---------------------------------------------------------------------------\u001b[0m",
      "\u001b[1;31mImportError\u001b[0m                               Traceback (most recent call last)",
      "\u001b[1;32m<ipython-input-1-aec0356371eb>\u001b[0m in \u001b[0;36m<module>\u001b[1;34m()\u001b[0m\n\u001b[0;32m      1\u001b[0m \u001b[1;32mimport\u001b[0m \u001b[0mmath\u001b[0m\u001b[1;33m\u001b[0m\u001b[0m\n\u001b[1;32m----> 2\u001b[1;33m \u001b[1;32mimport\u001b[0m \u001b[0mtorch\u001b[0m\u001b[1;33m\u001b[0m\u001b[0m\n\u001b[0m\u001b[0;32m      3\u001b[0m \u001b[1;32mimport\u001b[0m \u001b[0mtorch\u001b[0m\u001b[1;33m.\u001b[0m\u001b[0mnn\u001b[0m \u001b[1;32mas\u001b[0m \u001b[0mnn\u001b[0m\u001b[1;33m\u001b[0m\u001b[0m\n\u001b[0;32m      4\u001b[0m \u001b[1;32mimport\u001b[0m \u001b[0mtorch\u001b[0m\u001b[1;33m.\u001b[0m\u001b[0mnn\u001b[0m\u001b[1;33m.\u001b[0m\u001b[0minit\u001b[0m \u001b[1;32mas\u001b[0m \u001b[0minit\u001b[0m\u001b[1;33m\u001b[0m\u001b[0m\n",
      "\u001b[1;31mImportError\u001b[0m: No module named 'torch'"
     ]
    }
   ],
   "source": [
    "import math\n",
    "import torch\n",
    "import torch.nn as nn\n",
    "import torch.nn.init as init"
   ]
  },
  {
   "cell_type": "code",
   "execution_count": null,
   "metadata": {},
   "outputs": [],
   "source": [
    "class dw_conv(nn.Module):\n",
    "\n",
    "    def __init__(self, in_dim, out_dim, stride):\n",
    "        super(dw_conv, self).__init__()\n",
    "        self.dw_conv_k3 = nn.Conv2d(in_dim, out_dim, kernel_size=3 , stride=stride, groups=in_dim )\n",
    "        self.bn = nn.BatchNorm2d(out_dim)\n",
    "        self.relu = nn.ReLU(inplace=True)\n",
    "\n",
    "    def forward(self, x):\n",
    "        x = self.dw_conv_k3(x)\n",
    "        x = self.bn(x)\n",
    "        x = self.relu(x)\n",
    "        return x\n",
    "\n",
    "\n",
    "class point_conv(nn.Module):\n",
    "    \n",
    "    def __init__(self, in_dim, out_dim):\n",
    "        super(point_conv, self).__init__()\n",
    "        self.p_conv_k1 = nn.Conv2d(in_dim, out_dim, kernel_size=1)\n",
    "        self.bn = nn.BatchNorm2d(out_dim)\n",
    "        self.relu = nn.ReLU(inplace=True)\n",
    "\n",
    "    def forward(self, x):\n",
    "        x = self.p_conv_k1(x)\n",
    "        x = self.bn(x)\n",
    "        x = self.relu(x)\n",
    "        return x"
   ]
  },
  {
   "cell_type": "code",
   "execution_count": null,
   "metadata": {},
   "outputs": [],
   "source": [
    "class MobileNets(nn.Module):\n",
    "\n",
    "    def __init__(self, num_classes=1000):\n",
    "        super(MobileNets, self).__init__()\n",
    "        self.num_classes = num_classes\n",
    "        self.features = nn.Sequential(\n",
    "            nn.Conv2d(3, 32, kernel_size=3, stride=2),\n",
    "            nn.ReLU(inplace=True),\n",
    "            dw_conv(32, 32, 1),\n",
    "            point_conv(32, 64),\n",
    "            dw_conv(64, 64, 2),\n",
    "            point_conv(64, 128),\n",
    "            dw_conv(128, 128, 1),\n",
    "            point_conv(128, 128),\n",
    "            dw_conv(128, 128, 2),\n",
    "            point_conv(128, 256),\n",
    "            dw_conv(256, 256, 1),\n",
    "            point_conv(256, 256),\n",
    "            dw_conv(256, 256, 2),\n",
    "            point_conv(256, 512),\n",
    "            dw_conv(512, 512, 1),\n",
    "            point_conv(512, 512),\n",
    "            dw_conv(512, 512, 1),\n",
    "            point_conv(512, 512),\n",
    "            dw_conv(512, 512, 1),\n",
    "            point_conv(512, 512),\n",
    "            dw_conv(512, 512, 1),\n",
    "            point_conv(512, 512),\n",
    "            dw_conv(512, 512, 1),\n",
    "            point_conv(512, 512),\n",
    "            dw_conv(512, 512, 2),\n",
    "            point_conv(512, 1024),\n",
    "            dw_conv(1024, 1024, 2),\n",
    "            point_conv(1024, 1024),\n",
    "            nn.AvgPool2d(7),\n",
    "        )\n",
    "        \n",
    "        self.fc = nn.Linear(1024, self.num_classes)\n",
    "    \n",
    "            \n",
    "    def forward(self, x):\n",
    "        x = self.features(x)\n",
    "        x = x.view(-1, 1024)\n",
    "        x = self.fc(x)\n",
    "        return F.log_softmax(x)\n",
    "\n",
    "def mobilenet():\n",
    "    model = MobileNets()\n",
    "    if use_cuda:\n",
    "        model = model.cuda()\n",
    "    return model\n",
    "\n",
    "model = mobilenet()\n",
    "optimizer = optim.Adam(model.parameters())\n",
    "\n",
    "print(model)"
   ]
  }
 ],
 "metadata": {
  "kernelspec": {
   "display_name": "Python 3",
   "language": "python",
   "name": "python3"
  },
  "language_info": {
   "codemirror_mode": {
    "name": "ipython",
    "version": 3
   },
   "file_extension": ".py",
   "mimetype": "text/x-python",
   "name": "python",
   "nbconvert_exporter": "python",
   "pygments_lexer": "ipython3",
   "version": "3.5.2"
  },
  "widgets": {
   "state": {},
   "version": "1.1.2"
  }
 },
 "nbformat": 4,
 "nbformat_minor": 2
}
